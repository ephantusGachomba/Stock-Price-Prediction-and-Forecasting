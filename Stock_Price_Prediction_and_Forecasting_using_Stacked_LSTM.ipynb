{
  "nbformat": 4,
  "nbformat_minor": 0,
  "metadata": {
    "colab": {
      "name": "Stock Price Prediction and Forecasting using Stacked LSTM.ipynb",
      "provenance": [],
      "authorship_tag": "ABX9TyNv8A1IV1m4Gmzg68dM8swN",
      "include_colab_link": true
    },
    "kernelspec": {
      "name": "python3",
      "display_name": "Python 3"
    },
    "language_info": {
      "name": "python"
    }
  },
  "cells": [
    {
      "cell_type": "markdown",
      "metadata": {
        "id": "view-in-github",
        "colab_type": "text"
      },
      "source": [
        "<a href=\"https://colab.research.google.com/github/ephantusGachomba/Stock-Price-Prediction-and-Forecasting/blob/main/Stock_Price_Prediction_and_Forecasting_using_Stacked_LSTM.ipynb\" target=\"_parent\"><img src=\"https://colab.research.google.com/assets/colab-badge.svg\" alt=\"Open In Colab\"/></a>"
      ]
    },
    {
      "cell_type": "markdown",
      "metadata": {
        "id": "dZ8drdViC3OL"
      },
      "source": [
        "# Data Collection"
      ]
    },
    {
      "cell_type": "code",
      "metadata": {
        "id": "15SJAt8dp7FO"
      },
      "source": [
        "### Data Collection\n",
        "import pandas_datareader as pdr\n",
        "key=\"3c6c6fa7b193473be1bd9a94f1d0f3d0933443a0\"\n",
        "\n",
        "#Getting AAPL data using tiingo API\n",
        "df = pdr.get_data_tiingo('AAPL', api_key = key)"
      ],
      "execution_count": 96,
      "outputs": []
    },
    {
      "cell_type": "code",
      "metadata": {
        "id": "pNZ2itP81kMT"
      },
      "source": [
        "#Saving the data as csv file\n",
        "df.to_csv('AAPL.csv')\n"
      ],
      "execution_count": 97,
      "outputs": []
    },
    {
      "cell_type": "markdown",
      "metadata": {
        "id": "Zvz4NOoOC9Ye"
      },
      "source": [
        "# Pre-Processing the data"
      ]
    },
    {
      "cell_type": "code",
      "metadata": {
        "id": "XIDoXdPvDCAs"
      },
      "source": [
        "#Importing the necessary libraries\n",
        "import pandas as pd\n",
        "import matplotlib.pyplot as plt\n",
        "import seaborn as sns\n",
        "import numpy as np"
      ],
      "execution_count": 98,
      "outputs": []
    },
    {
      "cell_type": "code",
      "metadata": {
        "colab": {
          "base_uri": "https://localhost:8080/",
          "height": 204
        },
        "id": "XmOMeNq8AREs",
        "outputId": "55942781-df67-4805-efe6-67c925fd8d8b"
      },
      "source": [
        "#Reviewing the collected dataset\n",
        "df = pd.read_csv('AAPL.csv')\n",
        "df.head()"
      ],
      "execution_count": 99,
      "outputs": [
        {
          "output_type": "execute_result",
          "data": {
            "text/html": [
              "<div>\n",
              "<style scoped>\n",
              "    .dataframe tbody tr th:only-of-type {\n",
              "        vertical-align: middle;\n",
              "    }\n",
              "\n",
              "    .dataframe tbody tr th {\n",
              "        vertical-align: top;\n",
              "    }\n",
              "\n",
              "    .dataframe thead th {\n",
              "        text-align: right;\n",
              "    }\n",
              "</style>\n",
              "<table border=\"1\" class=\"dataframe\">\n",
              "  <thead>\n",
              "    <tr style=\"text-align: right;\">\n",
              "      <th></th>\n",
              "      <th>symbol</th>\n",
              "      <th>date</th>\n",
              "      <th>close</th>\n",
              "      <th>high</th>\n",
              "      <th>low</th>\n",
              "      <th>open</th>\n",
              "      <th>volume</th>\n",
              "      <th>adjClose</th>\n",
              "      <th>adjHigh</th>\n",
              "      <th>adjLow</th>\n",
              "      <th>adjOpen</th>\n",
              "      <th>adjVolume</th>\n",
              "      <th>divCash</th>\n",
              "      <th>splitFactor</th>\n",
              "    </tr>\n",
              "  </thead>\n",
              "  <tbody>\n",
              "    <tr>\n",
              "      <th>0</th>\n",
              "      <td>AAPL</td>\n",
              "      <td>2016-06-10 00:00:00+00:00</td>\n",
              "      <td>98.83</td>\n",
              "      <td>99.3457</td>\n",
              "      <td>98.48</td>\n",
              "      <td>98.53</td>\n",
              "      <td>31712936</td>\n",
              "      <td>23.078134</td>\n",
              "      <td>23.198557</td>\n",
              "      <td>22.996404</td>\n",
              "      <td>23.008080</td>\n",
              "      <td>126851744</td>\n",
              "      <td>0.0</td>\n",
              "      <td>1.0</td>\n",
              "    </tr>\n",
              "    <tr>\n",
              "      <th>1</th>\n",
              "      <td>AAPL</td>\n",
              "      <td>2016-06-13 00:00:00+00:00</td>\n",
              "      <td>97.34</td>\n",
              "      <td>99.1200</td>\n",
              "      <td>97.10</td>\n",
              "      <td>98.69</td>\n",
              "      <td>38020494</td>\n",
              "      <td>22.730199</td>\n",
              "      <td>23.145853</td>\n",
              "      <td>22.674156</td>\n",
              "      <td>23.045442</td>\n",
              "      <td>152081976</td>\n",
              "      <td>0.0</td>\n",
              "      <td>1.0</td>\n",
              "    </tr>\n",
              "    <tr>\n",
              "      <th>2</th>\n",
              "      <td>AAPL</td>\n",
              "      <td>2016-06-14 00:00:00+00:00</td>\n",
              "      <td>97.46</td>\n",
              "      <td>98.4750</td>\n",
              "      <td>96.75</td>\n",
              "      <td>97.32</td>\n",
              "      <td>31931944</td>\n",
              "      <td>22.758221</td>\n",
              "      <td>22.995237</td>\n",
              "      <td>22.592426</td>\n",
              "      <td>22.725529</td>\n",
              "      <td>127727776</td>\n",
              "      <td>0.0</td>\n",
              "      <td>1.0</td>\n",
              "    </tr>\n",
              "    <tr>\n",
              "      <th>3</th>\n",
              "      <td>AAPL</td>\n",
              "      <td>2016-06-15 00:00:00+00:00</td>\n",
              "      <td>97.14</td>\n",
              "      <td>98.4100</td>\n",
              "      <td>97.03</td>\n",
              "      <td>97.82</td>\n",
              "      <td>29445227</td>\n",
              "      <td>22.683496</td>\n",
              "      <td>22.980058</td>\n",
              "      <td>22.657810</td>\n",
              "      <td>22.842285</td>\n",
              "      <td>117780908</td>\n",
              "      <td>0.0</td>\n",
              "      <td>1.0</td>\n",
              "    </tr>\n",
              "    <tr>\n",
              "      <th>4</th>\n",
              "      <td>AAPL</td>\n",
              "      <td>2016-06-16 00:00:00+00:00</td>\n",
              "      <td>97.55</td>\n",
              "      <td>97.7500</td>\n",
              "      <td>96.07</td>\n",
              "      <td>96.45</td>\n",
              "      <td>31326815</td>\n",
              "      <td>22.779237</td>\n",
              "      <td>22.825940</td>\n",
              "      <td>22.433637</td>\n",
              "      <td>22.522372</td>\n",
              "      <td>125307260</td>\n",
              "      <td>0.0</td>\n",
              "      <td>1.0</td>\n",
              "    </tr>\n",
              "  </tbody>\n",
              "</table>\n",
              "</div>"
            ],
            "text/plain": [
              "  symbol                       date  close  ...  adjVolume  divCash  splitFactor\n",
              "0   AAPL  2016-06-10 00:00:00+00:00  98.83  ...  126851744      0.0          1.0\n",
              "1   AAPL  2016-06-13 00:00:00+00:00  97.34  ...  152081976      0.0          1.0\n",
              "2   AAPL  2016-06-14 00:00:00+00:00  97.46  ...  127727776      0.0          1.0\n",
              "3   AAPL  2016-06-15 00:00:00+00:00  97.14  ...  117780908      0.0          1.0\n",
              "4   AAPL  2016-06-16 00:00:00+00:00  97.55  ...  125307260      0.0          1.0\n",
              "\n",
              "[5 rows x 14 columns]"
            ]
          },
          "metadata": {
            "tags": []
          },
          "execution_count": 99
        }
      ]
    },
    {
      "cell_type": "code",
      "metadata": {
        "colab": {
          "base_uri": "https://localhost:8080/",
          "height": 289
        },
        "id": "ha-ApYFaAh4e",
        "outputId": "5885aa67-5c0d-4ca1-f9ef-2b8d365f7544"
      },
      "source": [
        "df.tail()"
      ],
      "execution_count": 100,
      "outputs": [
        {
          "output_type": "execute_result",
          "data": {
            "text/html": [
              "<div>\n",
              "<style scoped>\n",
              "    .dataframe tbody tr th:only-of-type {\n",
              "        vertical-align: middle;\n",
              "    }\n",
              "\n",
              "    .dataframe tbody tr th {\n",
              "        vertical-align: top;\n",
              "    }\n",
              "\n",
              "    .dataframe thead th {\n",
              "        text-align: right;\n",
              "    }\n",
              "</style>\n",
              "<table border=\"1\" class=\"dataframe\">\n",
              "  <thead>\n",
              "    <tr style=\"text-align: right;\">\n",
              "      <th></th>\n",
              "      <th>symbol</th>\n",
              "      <th>date</th>\n",
              "      <th>close</th>\n",
              "      <th>high</th>\n",
              "      <th>low</th>\n",
              "      <th>open</th>\n",
              "      <th>volume</th>\n",
              "      <th>adjClose</th>\n",
              "      <th>adjHigh</th>\n",
              "      <th>adjLow</th>\n",
              "      <th>adjOpen</th>\n",
              "      <th>adjVolume</th>\n",
              "      <th>divCash</th>\n",
              "      <th>splitFactor</th>\n",
              "    </tr>\n",
              "  </thead>\n",
              "  <tbody>\n",
              "    <tr>\n",
              "      <th>1252</th>\n",
              "      <td>AAPL</td>\n",
              "      <td>2021-06-02 00:00:00+00:00</td>\n",
              "      <td>125.06</td>\n",
              "      <td>125.24</td>\n",
              "      <td>124.0500</td>\n",
              "      <td>124.28</td>\n",
              "      <td>59278862</td>\n",
              "      <td>125.06</td>\n",
              "      <td>125.24</td>\n",
              "      <td>124.0500</td>\n",
              "      <td>124.28</td>\n",
              "      <td>59278862</td>\n",
              "      <td>0.0</td>\n",
              "      <td>1.0</td>\n",
              "    </tr>\n",
              "    <tr>\n",
              "      <th>1253</th>\n",
              "      <td>AAPL</td>\n",
              "      <td>2021-06-03 00:00:00+00:00</td>\n",
              "      <td>123.54</td>\n",
              "      <td>124.85</td>\n",
              "      <td>123.1300</td>\n",
              "      <td>124.68</td>\n",
              "      <td>76229170</td>\n",
              "      <td>123.54</td>\n",
              "      <td>124.85</td>\n",
              "      <td>123.1300</td>\n",
              "      <td>124.68</td>\n",
              "      <td>76229170</td>\n",
              "      <td>0.0</td>\n",
              "      <td>1.0</td>\n",
              "    </tr>\n",
              "    <tr>\n",
              "      <th>1254</th>\n",
              "      <td>AAPL</td>\n",
              "      <td>2021-06-04 00:00:00+00:00</td>\n",
              "      <td>125.89</td>\n",
              "      <td>126.16</td>\n",
              "      <td>123.8500</td>\n",
              "      <td>124.07</td>\n",
              "      <td>75169343</td>\n",
              "      <td>125.89</td>\n",
              "      <td>126.16</td>\n",
              "      <td>123.8500</td>\n",
              "      <td>124.07</td>\n",
              "      <td>75169343</td>\n",
              "      <td>0.0</td>\n",
              "      <td>1.0</td>\n",
              "    </tr>\n",
              "    <tr>\n",
              "      <th>1255</th>\n",
              "      <td>AAPL</td>\n",
              "      <td>2021-06-07 00:00:00+00:00</td>\n",
              "      <td>125.90</td>\n",
              "      <td>126.32</td>\n",
              "      <td>124.8321</td>\n",
              "      <td>126.17</td>\n",
              "      <td>71057550</td>\n",
              "      <td>125.90</td>\n",
              "      <td>126.32</td>\n",
              "      <td>124.8321</td>\n",
              "      <td>126.17</td>\n",
              "      <td>71057550</td>\n",
              "      <td>0.0</td>\n",
              "      <td>1.0</td>\n",
              "    </tr>\n",
              "    <tr>\n",
              "      <th>1256</th>\n",
              "      <td>AAPL</td>\n",
              "      <td>2021-06-08 00:00:00+00:00</td>\n",
              "      <td>126.74</td>\n",
              "      <td>128.46</td>\n",
              "      <td>126.2101</td>\n",
              "      <td>126.60</td>\n",
              "      <td>74403774</td>\n",
              "      <td>126.74</td>\n",
              "      <td>128.46</td>\n",
              "      <td>126.2101</td>\n",
              "      <td>126.60</td>\n",
              "      <td>74403774</td>\n",
              "      <td>0.0</td>\n",
              "      <td>1.0</td>\n",
              "    </tr>\n",
              "  </tbody>\n",
              "</table>\n",
              "</div>"
            ],
            "text/plain": [
              "     symbol                       date   close  ...  adjVolume  divCash  splitFactor\n",
              "1252   AAPL  2021-06-02 00:00:00+00:00  125.06  ...   59278862      0.0          1.0\n",
              "1253   AAPL  2021-06-03 00:00:00+00:00  123.54  ...   76229170      0.0          1.0\n",
              "1254   AAPL  2021-06-04 00:00:00+00:00  125.89  ...   75169343      0.0          1.0\n",
              "1255   AAPL  2021-06-07 00:00:00+00:00  125.90  ...   71057550      0.0          1.0\n",
              "1256   AAPL  2021-06-08 00:00:00+00:00  126.74  ...   74403774      0.0          1.0\n",
              "\n",
              "[5 rows x 14 columns]"
            ]
          },
          "metadata": {
            "tags": []
          },
          "execution_count": 100
        }
      ]
    },
    {
      "cell_type": "code",
      "metadata": {
        "colab": {
          "base_uri": "https://localhost:8080/"
        },
        "id": "wXR2plr_BIiP",
        "outputId": "035a9923-2e85-4b19-e696-b54c5c69825f"
      },
      "source": [
        "#Using the closing value to Analyse\n",
        "df1 = df.reset_index()['close']\n",
        "df1"
      ],
      "execution_count": 101,
      "outputs": [
        {
          "output_type": "execute_result",
          "data": {
            "text/plain": [
              "0        98.83\n",
              "1        97.34\n",
              "2        97.46\n",
              "3        97.14\n",
              "4        97.55\n",
              "         ...  \n",
              "1252    125.06\n",
              "1253    123.54\n",
              "1254    125.89\n",
              "1255    125.90\n",
              "1256    126.74\n",
              "Name: close, Length: 1257, dtype: float64"
            ]
          },
          "metadata": {
            "tags": []
          },
          "execution_count": 101
        }
      ]
    },
    {
      "cell_type": "code",
      "metadata": {
        "colab": {
          "base_uri": "https://localhost:8080/",
          "height": 282
        },
        "id": "g8lEsQhWD2UU",
        "outputId": "fcf5206e-3ece-4fe7-bc9c-18497d6f9cf6"
      },
      "source": [
        "plt.plot(df1)"
      ],
      "execution_count": 102,
      "outputs": [
        {
          "output_type": "execute_result",
          "data": {
            "text/plain": [
              "[<matplotlib.lines.Line2D at 0x7f79f64de3d0>]"
            ]
          },
          "metadata": {
            "tags": []
          },
          "execution_count": 102
        },
        {
          "output_type": "display_data",
          "data": {
            "image/png": "[encoded data removed]",
            "text/plain": [
              "<Figure size 432x288 with 1 Axes>"
            ]
          },
          "metadata": {
            "tags": [],
            "needs_background": "light"
          }
        }
      ]
    },
    {
      "cell_type": "code",
      "metadata": {
        "id": "FDrQCRZFE2RD"
      },
      "source": [
        "## LSTM are sensitive to the scale of the data. so we apply minimax scaler\n",
        "\n",
        "from sklearn.preprocessing import MinMaxScaler\n",
        "scaler = MinMaxScaler(feature_range=(0,1))\n",
        "df1 = scaler.fit_transform(np.array(df1).reshape(-1,1))"
      ],
      "execution_count": 103,
      "outputs": []
    },
    {
      "cell_type": "code",
      "metadata": {
        "id": "64zLRfDjFSfb"
      },
      "source": [
        "#Splitting the dataset into train and test split\n",
        "training_size = int(len(df1)*0.65)\n",
        "test_size = len(df1) - training_size\n",
        "train_data , test_data = df1[0:training_size, :], df1[training_size:, :1]"
      ],
      "execution_count": 104,
      "outputs": []
    },
    {
      "cell_type": "code",
      "metadata": {
        "id": "jU8RREbtJ602"
      },
      "source": [
        "#Convert an array of values into a dataset matrix\n",
        "def create_dataset(dataset, time_step=1):\n",
        "  dataX, dataY = [], []\n",
        "  for i in range(len(dataset) - time_step - 1):\n",
        "    a = dataset[i : (i + time_step), 0]\n",
        "    dataX.append(a)\n",
        "    dataY.append(dataset[i + time_step, 0])\n",
        "  return np.array(dataX), np.array(dataY)"
      ],
      "execution_count": 105,
      "outputs": []
    },
    {
      "cell_type": "code",
      "metadata": {
        "id": "_NK_LdnbSS4M"
      },
      "source": [
        "#Reshape into X = t, t+1, t+2, t+3 Y = t+4\n",
        "time_step = 100\n",
        "X_train, y_train = create_dataset(train_data, time_step)\n",
        "X_test, ytest = create_dataset(test_data, time_step)"
      ],
      "execution_count": 106,
      "outputs": []
    },
    {
      "cell_type": "code",
      "metadata": {
        "colab": {
          "base_uri": "https://localhost:8080/"
        },
        "id": "0fubkjTlS7du",
        "outputId": "e79910ce-1679-40ee-f37f-8044edab8896"
      },
      "source": [
        "X_train"
      ],
      "execution_count": 107,
      "outputs": [
        {
          "output_type": "execute_result",
          "data": {
            "text/plain": [
              "array([[0.01639899, 0.01280039, 0.01309021, ..., 0.05419635, 0.05236083,\n",
              "        0.0519261 ],\n",
              "       [0.01280039, 0.01309021, 0.01231735, ..., 0.05236083, 0.0519261 ,\n",
              "        0.046975  ],\n",
              "       [0.01309021, 0.01231735, 0.01330757, ..., 0.0519261 , 0.046975  ,\n",
              "        0.04721652],\n",
              "       ...,\n",
              "       [0.25820553, 0.25801232, 0.25888178, ..., 0.28250211, 0.28185002,\n",
              "        0.27450791],\n",
              "       [0.25801232, 0.25888178, 0.25893008, ..., 0.28185002, 0.27450791,\n",
              "        0.28293684],\n",
              "       [0.25888178, 0.25893008, 0.26830093, ..., 0.27450791, 0.28293684,\n",
              "        0.29281488]])"
            ]
          },
          "metadata": {
            "tags": []
          },
          "execution_count": 107
        }
      ]
    },
    {
      "cell_type": "code",
      "metadata": {
        "id": "TfKE7iJc1p6P"
      },
      "source": [
        "# reshape input to be [samples, time steps, features] which is required for LSTM\n",
        "X_train =X_train.reshape(X_train.shape[0],X_train.shape[1] , 1)\n",
        "X_test = X_test.reshape(X_test.shape[0],X_test.shape[1] , 1)"
      ],
      "execution_count": 108,
      "outputs": []
    },
    {
      "cell_type": "code",
      "metadata": {
        "id": "qOg62sbC2YYc"
      },
      "source": [
        "#Create the LSTM\n",
        "import tensorflow as tf\n",
        "from tensorflow.keras.models import Sequential\n",
        "from tensorflow.keras.layers import Dense\n",
        "from tensorflow.keras.layers import LSTM"
      ],
      "execution_count": 109,
      "outputs": []
    },
    {
      "cell_type": "code",
      "metadata": {
        "id": "4mb3l1HE29h4"
      },
      "source": [
        "model=Sequential()\n",
        "model.add(LSTM(50,return_sequences=True,input_shape=(100,1)))\n",
        "model.add(LSTM(50,return_sequences=True))\n",
        "model.add(LSTM(50))\n",
        "model.add(Dense(1))\n",
        "model.compile(loss='mean_squared_error',optimizer='adam')"
      ],
      "execution_count": 110,
      "outputs": []
    },
    {
      "cell_type": "code",
      "metadata": {
        "colab": {
          "base_uri": "https://localhost:8080/"
        },
        "id": "QgpQqsqG_Q0Z",
        "outputId": "3b38278d-f3c6-4f8a-e7cd-86d476d9720f"
      },
      "source": [
        "model.summary()"
      ],
      "execution_count": 111,
      "outputs": [
        {
          "output_type": "stream",
          "text": [
            "Model: \"sequential_2\"\n",
            "_________________________________________________________________\n",
            "Layer (type)                 Output Shape              Param #   \n",
            "=================================================================\n",
            "lstm_6 (LSTM)                (None, 100, 50)           10400     \n",
            "_________________________________________________________________\n",
            "lstm_7 (LSTM)                (None, 100, 50)           20200     \n",
            "_________________________________________________________________\n",
            "lstm_8 (LSTM)                (None, 50)                20200     \n",
            "_________________________________________________________________\n",
            "dense_2 (Dense)              (None, 1)                 51        \n",
            "=================================================================\n",
            "Total params: 50,851\n",
            "Trainable params: 50,851\n",
            "Non-trainable params: 0\n",
            "_________________________________________________________________\n"
          ],
          "name": "stdout"
        }
      ]
    },
    {
      "cell_type": "code",
      "metadata": {
        "colab": {
          "base_uri": "https://localhost:8080/"
        },
        "id": "Ngf1Fyh-_WsQ",
        "outputId": "3653834b-7c59-4a7d-aac8-08ca0c4712ee"
      },
      "source": [
        "model.fit(X_train,y_train,validation_data=(X_test,ytest),epochs=100,batch_size=64,verbose=1)"
      ],
      "execution_count": 112,
      "outputs": [
        {
          "output_type": "stream",
          "text": [
            "Epoch 1/100\n",
            "12/12 [==============================] - 8s 268ms/step - loss: 0.0135 - val_loss: 0.0330\n",
            "Epoch 2/100\n",
            "12/12 [==============================] - 2s 176ms/step - loss: 0.0023 - val_loss: 0.0240\n",
            "Epoch 3/100\n",
            "12/12 [==============================] - 2s 173ms/step - loss: 0.0013 - val_loss: 0.0232\n",
            "Epoch 4/100\n",
            "12/12 [==============================] - 2s 171ms/step - loss: 7.2853e-04 - val_loss: 0.0191\n",
            "Epoch 5/100\n",
            "12/12 [==============================] - 2s 172ms/step - loss: 4.1451e-04 - val_loss: 0.0205\n",
            "Epoch 6/100\n",
            "12/12 [==============================] - 2s 169ms/step - loss: 3.9852e-04 - val_loss: 0.0201\n",
            "Epoch 7/100\n",
            "12/12 [==============================] - 2s 174ms/step - loss: 3.7712e-04 - val_loss: 0.0191\n",
            "Epoch 8/100\n",
            "12/12 [==============================] - 2s 169ms/step - loss: 3.5914e-04 - val_loss: 0.0180\n",
            "Epoch 9/100\n",
            "12/12 [==============================] - 2s 176ms/step - loss: 3.4980e-04 - val_loss: 0.0179\n",
            "Epoch 10/100\n",
            "12/12 [==============================] - 2s 176ms/step - loss: 3.5861e-04 - val_loss: 0.0171\n",
            "Epoch 11/100\n",
            "12/12 [==============================] - 2s 171ms/step - loss: 3.3883e-04 - val_loss: 0.0170\n",
            "Epoch 12/100\n",
            "12/12 [==============================] - 2s 171ms/step - loss: 3.2242e-04 - val_loss: 0.0165\n",
            "Epoch 13/100\n",
            "12/12 [==============================] - 2s 172ms/step - loss: 3.1695e-04 - val_loss: 0.0161\n",
            "Epoch 14/100\n",
            "12/12 [==============================] - 2s 175ms/step - loss: 2.9700e-04 - val_loss: 0.0153\n",
            "Epoch 15/100\n",
            "12/12 [==============================] - 2s 173ms/step - loss: 2.9801e-04 - val_loss: 0.0150\n",
            "Epoch 16/100\n",
            "12/12 [==============================] - 2s 172ms/step - loss: 2.7134e-04 - val_loss: 0.0146\n",
            "Epoch 17/100\n",
            "12/12 [==============================] - 2s 173ms/step - loss: 2.7079e-04 - val_loss: 0.0146\n",
            "Epoch 18/100\n",
            "12/12 [==============================] - 2s 175ms/step - loss: 2.7588e-04 - val_loss: 0.0145\n",
            "Epoch 19/100\n",
            "12/12 [==============================] - 2s 174ms/step - loss: 2.3761e-04 - val_loss: 0.0145\n",
            "Epoch 20/100\n",
            "12/12 [==============================] - 2s 172ms/step - loss: 2.3681e-04 - val_loss: 0.0153\n",
            "Epoch 21/100\n",
            "12/12 [==============================] - 2s 170ms/step - loss: 2.5351e-04 - val_loss: 0.0141\n",
            "Epoch 22/100\n",
            "12/12 [==============================] - 2s 171ms/step - loss: 2.4120e-04 - val_loss: 0.0139\n",
            "Epoch 23/100\n",
            "12/12 [==============================] - 2s 172ms/step - loss: 2.2139e-04 - val_loss: 0.0139\n",
            "Epoch 24/100\n",
            "12/12 [==============================] - 2s 173ms/step - loss: 2.1969e-04 - val_loss: 0.0139\n",
            "Epoch 25/100\n",
            "12/12 [==============================] - 2s 173ms/step - loss: 2.2342e-04 - val_loss: 0.0137\n",
            "Epoch 26/100\n",
            "12/12 [==============================] - 2s 170ms/step - loss: 2.2010e-04 - val_loss: 0.0136\n",
            "Epoch 27/100\n",
            "12/12 [==============================] - 2s 171ms/step - loss: 2.1062e-04 - val_loss: 0.0138\n",
            "Epoch 28/100\n",
            "12/12 [==============================] - 2s 172ms/step - loss: 2.2093e-04 - val_loss: 0.0131\n",
            "Epoch 29/100\n",
            "12/12 [==============================] - 2s 172ms/step - loss: 2.1492e-04 - val_loss: 0.0127\n",
            "Epoch 30/100\n",
            "12/12 [==============================] - 2s 175ms/step - loss: 2.4469e-04 - val_loss: 0.0134\n",
            "Epoch 31/100\n",
            "12/12 [==============================] - 2s 172ms/step - loss: 2.2555e-04 - val_loss: 0.0122\n",
            "Epoch 32/100\n",
            "12/12 [==============================] - 2s 173ms/step - loss: 2.0125e-04 - val_loss: 0.0126\n",
            "Epoch 33/100\n",
            "12/12 [==============================] - 2s 170ms/step - loss: 1.9958e-04 - val_loss: 0.0126\n",
            "Epoch 34/100\n",
            "12/12 [==============================] - 2s 169ms/step - loss: 1.9617e-04 - val_loss: 0.0126\n",
            "Epoch 35/100\n",
            "12/12 [==============================] - 2s 171ms/step - loss: 1.9299e-04 - val_loss: 0.0124\n",
            "Epoch 36/100\n",
            "12/12 [==============================] - 2s 172ms/step - loss: 1.9801e-04 - val_loss: 0.0128\n",
            "Epoch 37/100\n",
            "12/12 [==============================] - 2s 171ms/step - loss: 2.0523e-04 - val_loss: 0.0124\n",
            "Epoch 38/100\n",
            "12/12 [==============================] - 2s 172ms/step - loss: 2.0576e-04 - val_loss: 0.0117\n",
            "Epoch 39/100\n",
            "12/12 [==============================] - 2s 174ms/step - loss: 1.8900e-04 - val_loss: 0.0114\n",
            "Epoch 40/100\n",
            "12/12 [==============================] - 2s 171ms/step - loss: 2.0283e-04 - val_loss: 0.0126\n",
            "Epoch 41/100\n",
            "12/12 [==============================] - 2s 170ms/step - loss: 2.0257e-04 - val_loss: 0.0113\n",
            "Epoch 42/100\n",
            "12/12 [==============================] - 2s 170ms/step - loss: 2.0233e-04 - val_loss: 0.0111\n",
            "Epoch 43/100\n",
            "12/12 [==============================] - 2s 173ms/step - loss: 1.8406e-04 - val_loss: 0.0118\n",
            "Epoch 44/100\n",
            "12/12 [==============================] - 2s 173ms/step - loss: 2.0622e-04 - val_loss: 0.0112\n",
            "Epoch 45/100\n",
            "12/12 [==============================] - 2s 174ms/step - loss: 1.8208e-04 - val_loss: 0.0114\n",
            "Epoch 46/100\n",
            "12/12 [==============================] - 2s 175ms/step - loss: 1.7716e-04 - val_loss: 0.0114\n",
            "Epoch 47/100\n",
            "12/12 [==============================] - 2s 173ms/step - loss: 1.7740e-04 - val_loss: 0.0114\n",
            "Epoch 48/100\n",
            "12/12 [==============================] - 2s 170ms/step - loss: 2.0524e-04 - val_loss: 0.0113\n",
            "Epoch 49/100\n",
            "12/12 [==============================] - 2s 170ms/step - loss: 1.7642e-04 - val_loss: 0.0107\n",
            "Epoch 50/100\n",
            "12/12 [==============================] - 2s 172ms/step - loss: 1.7069e-04 - val_loss: 0.0115\n",
            "Epoch 51/100\n",
            "12/12 [==============================] - 2s 170ms/step - loss: 1.7835e-04 - val_loss: 0.0106\n",
            "Epoch 52/100\n",
            "12/12 [==============================] - 2s 173ms/step - loss: 1.8310e-04 - val_loss: 0.0106\n",
            "Epoch 53/100\n",
            "12/12 [==============================] - 2s 172ms/step - loss: 1.9066e-04 - val_loss: 0.0106\n",
            "Epoch 54/100\n",
            "12/12 [==============================] - 2s 171ms/step - loss: 2.0256e-04 - val_loss: 0.0102\n",
            "Epoch 55/100\n",
            "12/12 [==============================] - 2s 171ms/step - loss: 1.8983e-04 - val_loss: 0.0102\n",
            "Epoch 56/100\n",
            "12/12 [==============================] - 2s 170ms/step - loss: 1.5881e-04 - val_loss: 0.0107\n",
            "Epoch 57/100\n",
            "12/12 [==============================] - 2s 171ms/step - loss: 1.5736e-04 - val_loss: 0.0105\n",
            "Epoch 58/100\n",
            "12/12 [==============================] - 2s 171ms/step - loss: 1.5656e-04 - val_loss: 0.0104\n",
            "Epoch 59/100\n",
            "12/12 [==============================] - 2s 171ms/step - loss: 1.5416e-04 - val_loss: 0.0104\n",
            "Epoch 60/100\n",
            "12/12 [==============================] - 2s 172ms/step - loss: 1.6475e-04 - val_loss: 0.0103\n",
            "Epoch 61/100\n",
            "12/12 [==============================] - 2s 174ms/step - loss: 1.4985e-04 - val_loss: 0.0101\n",
            "Epoch 62/100\n",
            "12/12 [==============================] - 2s 170ms/step - loss: 1.6278e-04 - val_loss: 0.0102\n",
            "Epoch 63/100\n",
            "12/12 [==============================] - 2s 169ms/step - loss: 1.5273e-04 - val_loss: 0.0099\n",
            "Epoch 64/100\n",
            "12/12 [==============================] - 2s 171ms/step - loss: 1.5554e-04 - val_loss: 0.0096\n",
            "Epoch 65/100\n",
            "12/12 [==============================] - 2s 173ms/step - loss: 1.6744e-04 - val_loss: 0.0097\n",
            "Epoch 66/100\n",
            "12/12 [==============================] - 2s 172ms/step - loss: 1.7536e-04 - val_loss: 0.0095\n",
            "Epoch 67/100\n",
            "12/12 [==============================] - 2s 173ms/step - loss: 1.4576e-04 - val_loss: 0.0091\n",
            "Epoch 68/100\n",
            "12/12 [==============================] - 2s 172ms/step - loss: 1.4523e-04 - val_loss: 0.0096\n",
            "Epoch 69/100\n",
            "12/12 [==============================] - 2s 171ms/step - loss: 1.5171e-04 - val_loss: 0.0090\n",
            "Epoch 70/100\n",
            "12/12 [==============================] - 2s 170ms/step - loss: 1.3607e-04 - val_loss: 0.0089\n",
            "Epoch 71/100\n",
            "12/12 [==============================] - 2s 172ms/step - loss: 1.3640e-04 - val_loss: 0.0088\n",
            "Epoch 72/100\n",
            "12/12 [==============================] - 2s 170ms/step - loss: 1.3053e-04 - val_loss: 0.0088\n",
            "Epoch 73/100\n",
            "12/12 [==============================] - 2s 173ms/step - loss: 1.4023e-04 - val_loss: 0.0085\n",
            "Epoch 74/100\n",
            "12/12 [==============================] - 2s 172ms/step - loss: 1.2806e-04 - val_loss: 0.0085\n",
            "Epoch 75/100\n",
            "12/12 [==============================] - 2s 172ms/step - loss: 1.3244e-04 - val_loss: 0.0083\n",
            "Epoch 76/100\n",
            "12/12 [==============================] - 2s 174ms/step - loss: 1.3340e-04 - val_loss: 0.0081\n",
            "Epoch 77/100\n",
            "12/12 [==============================] - 2s 170ms/step - loss: 1.4267e-04 - val_loss: 0.0081\n",
            "Epoch 78/100\n",
            "12/12 [==============================] - 2s 171ms/step - loss: 1.3358e-04 - val_loss: 0.0084\n",
            "Epoch 79/100\n",
            "12/12 [==============================] - 2s 169ms/step - loss: 1.5647e-04 - val_loss: 0.0075\n",
            "Epoch 80/100\n",
            "12/12 [==============================] - 2s 171ms/step - loss: 1.1675e-04 - val_loss: 0.0076\n",
            "Epoch 81/100\n",
            "12/12 [==============================] - 2s 172ms/step - loss: 1.1578e-04 - val_loss: 0.0083\n",
            "Epoch 82/100\n",
            "12/12 [==============================] - 2s 173ms/step - loss: 1.2635e-04 - val_loss: 0.0076\n",
            "Epoch 83/100\n",
            "12/12 [==============================] - 2s 171ms/step - loss: 1.2059e-04 - val_loss: 0.0073\n",
            "Epoch 84/100\n",
            "12/12 [==============================] - 2s 169ms/step - loss: 1.4750e-04 - val_loss: 0.0073\n",
            "Epoch 85/100\n",
            "12/12 [==============================] - 2s 171ms/step - loss: 1.1811e-04 - val_loss: 0.0073\n",
            "Epoch 86/100\n",
            "12/12 [==============================] - 2s 172ms/step - loss: 1.1982e-04 - val_loss: 0.0072\n",
            "Epoch 87/100\n",
            "12/12 [==============================] - 2s 172ms/step - loss: 1.1178e-04 - val_loss: 0.0069\n",
            "Epoch 88/100\n",
            "12/12 [==============================] - 2s 171ms/step - loss: 1.0846e-04 - val_loss: 0.0069\n",
            "Epoch 89/100\n",
            "12/12 [==============================] - 2s 173ms/step - loss: 1.3440e-04 - val_loss: 0.0070\n",
            "Epoch 90/100\n",
            "12/12 [==============================] - 2s 174ms/step - loss: 1.3435e-04 - val_loss: 0.0067\n",
            "Epoch 91/100\n",
            "12/12 [==============================] - 2s 176ms/step - loss: 1.3130e-04 - val_loss: 0.0068\n",
            "Epoch 92/100\n",
            "12/12 [==============================] - 2s 172ms/step - loss: 1.0961e-04 - val_loss: 0.0066\n",
            "Epoch 93/100\n",
            "12/12 [==============================] - 2s 174ms/step - loss: 1.1484e-04 - val_loss: 0.0066\n",
            "Epoch 94/100\n",
            "12/12 [==============================] - 2s 172ms/step - loss: 1.0889e-04 - val_loss: 0.0076\n",
            "Epoch 95/100\n",
            "12/12 [==============================] - 2s 176ms/step - loss: 1.1168e-04 - val_loss: 0.0064\n",
            "Epoch 96/100\n",
            "12/12 [==============================] - 2s 173ms/step - loss: 1.0816e-04 - val_loss: 0.0065\n",
            "Epoch 97/100\n",
            "12/12 [==============================] - 2s 173ms/step - loss: 1.1811e-04 - val_loss: 0.0065\n",
            "Epoch 98/100\n",
            "12/12 [==============================] - 2s 173ms/step - loss: 1.1882e-04 - val_loss: 0.0069\n",
            "Epoch 99/100\n",
            "12/12 [==============================] - 2s 173ms/step - loss: 9.8872e-05 - val_loss: 0.0061\n",
            "Epoch 100/100\n",
            "12/12 [==============================] - 2s 171ms/step - loss: 1.0094e-04 - val_loss: 0.0064\n"
          ],
          "name": "stdout"
        },
        {
          "output_type": "execute_result",
          "data": {
            "text/plain": [
              "<tensorflow.python.keras.callbacks.History at 0x7f79f8e43310>"
            ]
          },
          "metadata": {
            "tags": []
          },
          "execution_count": 112
        }
      ]
    },
    {
      "cell_type": "code",
      "metadata": {
        "colab": {
          "base_uri": "https://localhost:8080/",
          "height": 35
        },
        "id": "6H4v9TmN_hbk",
        "outputId": "e18f7bbd-48b8-4113-88a7-1650fd67f3e2"
      },
      "source": [
        "tf.__version__"
      ],
      "execution_count": 113,
      "outputs": [
        {
          "output_type": "execute_result",
          "data": {
            "application/vnd.google.colaboratory.intrinsic+json": {
              "type": "string"
            },
            "text/plain": [
              "'2.5.0'"
            ]
          },
          "metadata": {
            "tags": []
          },
          "execution_count": 113
        }
      ]
    },
    {
      "cell_type": "code",
      "metadata": {
        "id": "L2lJLMm4DeNt"
      },
      "source": [
        "### Lets Do the prediction and check performance metrics\n",
        "train_predict=model.predict(X_train)\n",
        "test_predict=model.predict(X_test)"
      ],
      "execution_count": 114,
      "outputs": []
    },
    {
      "cell_type": "code",
      "metadata": {
        "id": "PoqQNbc4DuZN"
      },
      "source": [
        "##Transformback to original form\n",
        "train_predict=scaler.inverse_transform(train_predict)\n",
        "test_predict=scaler.inverse_transform(test_predict)"
      ],
      "execution_count": 115,
      "outputs": []
    },
    {
      "cell_type": "code",
      "metadata": {
        "colab": {
          "base_uri": "https://localhost:8080/"
        },
        "id": "cpOd3B6KD4re",
        "outputId": "e6ec3763-2189-4c05-8ff4-efe53ce385d8"
      },
      "source": [
        "### Calculate RMSE performance metrics\n",
        "import math\n",
        "from sklearn.metrics import mean_squared_error\n",
        "math.sqrt(mean_squared_error(y_train,train_predict))"
      ],
      "execution_count": 116,
      "outputs": [
        {
          "output_type": "execute_result",
          "data": {
            "text/plain": [
              "173.76355245532903"
            ]
          },
          "metadata": {
            "tags": []
          },
          "execution_count": 116
        }
      ]
    },
    {
      "cell_type": "code",
      "metadata": {
        "colab": {
          "base_uri": "https://localhost:8080/"
        },
        "id": "FAGIUGVjD-gZ",
        "outputId": "1136db52-08d6-48ee-d6a5-0f5278dc5c71"
      },
      "source": [
        "### Test Data RMSE\n",
        "math.sqrt(mean_squared_error(ytest,test_predict))"
      ],
      "execution_count": 117,
      "outputs": [
        {
          "output_type": "execute_result",
          "data": {
            "text/plain": [
              "247.03086410458985"
            ]
          },
          "metadata": {
            "tags": []
          },
          "execution_count": 117
        }
      ]
    },
    {
      "cell_type": "code",
      "metadata": {
        "colab": {
          "base_uri": "https://localhost:8080/",
          "height": 265
        },
        "id": "OoLoFQ5LEFeR",
        "outputId": "46274634-d936-451b-ca75-1631748ad33e"
      },
      "source": [
        "### Plotting \n",
        "# shift train predictions for plotting\n",
        "look_back=100\n",
        "trainPredictPlot = np.empty_like(df1)\n",
        "trainPredictPlot[:, :] = np.nan\n",
        "trainPredictPlot[look_back:len(train_predict)+look_back, :] = train_predict\n",
        "# shift test predictions for plotting\n",
        "testPredictPlot = np.empty_like(df1)\n",
        "testPredictPlot[:, :] = np.nan\n",
        "testPredictPlot[len(train_predict)+(look_back*2)+1:len(df1)-1, :] = test_predict\n",
        "# plot baseline and predictions\n",
        "plt.plot(scaler.inverse_transform(df1))\n",
        "plt.plot(trainPredictPlot)\n",
        "plt.plot(testPredictPlot)\n",
        "plt.show()"
      ],
      "execution_count": 121,
      "outputs": [
        {
          "output_type": "display_data",
          "data": {
            "image/png": "[encoded data removed]",
            "text/plain": [
              "<Figure size 432x288 with 1 Axes>"
            ]
          },
          "metadata": {
            "tags": [],
            "needs_background": "light"
          }
        }
      ]
    },
    {
      "cell_type": "code",
      "metadata": {
        "id": "0k_PyeJeG9eh"
      },
      "source": [
        ""
      ],
      "execution_count": null,
      "outputs": []
    }
  ]
}